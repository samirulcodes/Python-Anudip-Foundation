{
 "cells": [
  {
   "cell_type": "code",
   "execution_count": 1,
   "id": "fab27ea5-eec8-4ec9-97dd-e7553b58de1d",
   "metadata": {},
   "outputs": [],
   "source": [
    "import numpy as np"
   ]
  },
  {
   "cell_type": "code",
   "execution_count": 2,
   "id": "6747db10-b2c1-4c46-8ff0-d60717779938",
   "metadata": {},
   "outputs": [
    {
     "name": "stdout",
     "output_type": "stream",
     "text": [
      "2.1.3\n"
     ]
    }
   ],
   "source": [
    "print(np.__version__)"
   ]
  },
  {
   "cell_type": "code",
   "execution_count": 5,
   "id": "864e78df-9ea4-48d2-9fe6-6efbdc3dc5af",
   "metadata": {},
   "outputs": [],
   "source": [
    "x = np.arange(10) #Create a 1D array"
   ]
  },
  {
   "cell_type": "code",
   "execution_count": 6,
   "id": "537e4896-27d7-4dfe-9d3d-679bae35a672",
   "metadata": {},
   "outputs": [
    {
     "data": {
      "text/plain": [
       "array([0, 1, 2, 3, 4, 5, 6, 7, 8, 9])"
      ]
     },
     "execution_count": 6,
     "metadata": {},
     "output_type": "execute_result"
    }
   ],
   "source": [
    "x"
   ]
  },
  {
   "cell_type": "code",
   "execution_count": 7,
   "id": "fa5cde8c-c91d-4cde-ae06-505a894cf44b",
   "metadata": {},
   "outputs": [
    {
     "data": {
      "text/plain": [
       "array([[ True,  True,  True],\n",
       "       [ True,  True,  True],\n",
       "       [ True,  True,  True]])"
      ]
     },
     "execution_count": 7,
     "metadata": {},
     "output_type": "execute_result"
    }
   ],
   "source": [
    "np.full((3,3), True, dtype=bool) #Create a 3×3 numpy array of all True’s"
   ]
  },
  {
   "cell_type": "code",
   "execution_count": 8,
   "id": "69b9f60e-6346-4129-9c61-6726ca91be87",
   "metadata": {},
   "outputs": [
    {
     "data": {
      "text/plain": [
       "array([[ True,  True,  True],\n",
       "       [ True,  True,  True],\n",
       "       [ True,  True,  True]])"
      ]
     },
     "execution_count": 8,
     "metadata": {},
     "output_type": "execute_result"
    }
   ],
   "source": [
    "np.full((9), True, dtype=bool).reshape(3,3) # another way"
   ]
  },
  {
   "cell_type": "code",
   "execution_count": 9,
   "id": "4981295e-9abf-4239-8ea5-f1e30e9d8ec9",
   "metadata": {},
   "outputs": [],
   "source": [
    "arr = np.arange(10)  # create a list of array , #Extract all odd numbers and even"
   ]
  },
  {
   "cell_type": "code",
   "execution_count": 10,
   "id": "de10052c-fb74-4a55-848a-6c0489c44659",
   "metadata": {},
   "outputs": [
    {
     "data": {
      "text/plain": [
       "array([1, 3, 5, 7, 9])"
      ]
     },
     "execution_count": 10,
     "metadata": {},
     "output_type": "execute_result"
    }
   ],
   "source": [
    "arr[arr%2 == 1] # odd numbers"
   ]
  },
  {
   "cell_type": "code",
   "execution_count": 11,
   "id": "69bb31e3-8cf6-4f3f-b16a-cd5b8c3e4746",
   "metadata": {},
   "outputs": [
    {
     "data": {
      "text/plain": [
       "array([0, 2, 4, 6, 8])"
      ]
     },
     "execution_count": 11,
     "metadata": {},
     "output_type": "execute_result"
    }
   ],
   "source": [
    "arr[arr%2 == 0]  # even numbers"
   ]
  },
  {
   "cell_type": "code",
   "execution_count": 12,
   "id": "3e02734b-2546-425b-b525-e023872b4e58",
   "metadata": {},
   "outputs": [],
   "source": [
    "arr = np.arange(10) create array ,  #Replace all odd numbers in arr with -1"
   ]
  },
  {
   "cell_type": "code",
   "execution_count": 13,
   "id": "dd1fa46a-1a12-4e21-be5f-27167da724fe",
   "metadata": {},
   "outputs": [],
   "source": [
    "arr[arr%2 == 1] = -1 "
   ]
  },
  {
   "cell_type": "code",
   "execution_count": 14,
   "id": "d0eea98a-2774-43eb-8a3a-5b28ddc3f35f",
   "metadata": {},
   "outputs": [
    {
     "data": {
      "text/plain": [
       "array([ 0, -1,  2, -1,  4, -1,  6, -1,  8, -1])"
      ]
     },
     "execution_count": 14,
     "metadata": {},
     "output_type": "execute_result"
    }
   ],
   "source": [
    "arr"
   ]
  },
  {
   "cell_type": "code",
   "execution_count": 15,
   "id": "a02a10a7-ec02-4206-87db-b76771eb172c",
   "metadata": {},
   "outputs": [],
   "source": [
    "arr = np.arange(10) # have to do reshape"
   ]
  },
  {
   "cell_type": "code",
   "execution_count": 16,
   "id": "7cc1d7fb-ae19-4d5a-ace1-a20e09064749",
   "metadata": {},
   "outputs": [
    {
     "data": {
      "text/plain": [
       "array([[0, 1, 2, 3, 4],\n",
       "       [5, 6, 7, 8, 9]])"
      ]
     },
     "execution_count": 16,
     "metadata": {},
     "output_type": "execute_result"
    }
   ],
   "source": [
    "arr.reshape(2,5)"
   ]
  },
  {
   "cell_type": "code",
   "execution_count": 23,
   "id": "59aba6f5-4889-4e1f-b0a0-4968f773a8b6",
   "metadata": {},
   "outputs": [],
   "source": [
    "a = np.arange(10).reshape(2,-1) #How to stack two arrays vertically?\n",
    "b = np.repeat(1, 10).reshape(2,-1)"
   ]
  },
  {
   "cell_type": "code",
   "execution_count": 24,
   "id": "6a6b4141-90da-4ce5-abb2-78269b0568fc",
   "metadata": {},
   "outputs": [
    {
     "data": {
      "text/plain": [
       "array([[0, 1, 2, 3, 4],\n",
       "       [5, 6, 7, 8, 9],\n",
       "       [1, 1, 1, 1, 1],\n",
       "       [1, 1, 1, 1, 1]])"
      ]
     },
     "execution_count": 24,
     "metadata": {},
     "output_type": "execute_result"
    }
   ],
   "source": [
    "np.vstack([a,b])"
   ]
  },
  {
   "cell_type": "code",
   "execution_count": 25,
   "id": "dad15e39-34e1-42a4-958d-4bdf000c9610",
   "metadata": {},
   "outputs": [],
   "source": [
    "a = np.array([1,2,3,2,3,4,3,4,5,6]) #Get the common items between a and b\n",
    "b = np.array([7,2,10,2,7,4,9,4,9,8])  "
   ]
  },
  {
   "cell_type": "code",
   "execution_count": 28,
   "id": "f55795d7-b2fc-400a-a5f3-4998ce217299",
   "metadata": {},
   "outputs": [
    {
     "data": {
      "text/plain": [
       "array([2, 4])"
      ]
     },
     "execution_count": 28,
     "metadata": {},
     "output_type": "execute_result"
    }
   ],
   "source": [
    "np.intersect1d(a,b)"
   ]
  },
  {
   "cell_type": "code",
   "execution_count": 29,
   "id": "34c6054d-3593-420c-9306-135c50be2fe1",
   "metadata": {},
   "outputs": [],
   "source": [
    "a = np.array([1,2,3,4,5]) # From array a remove all items present in array b\n",
    "b = np.array([5,6,7,8,9]) "
   ]
  },
  {
   "cell_type": "code",
   "execution_count": 30,
   "id": "303ab93a-e91d-4ff8-9574-1902440a5df9",
   "metadata": {},
   "outputs": [
    {
     "data": {
      "text/plain": [
       "array([1, 2, 3, 4])"
      ]
     },
     "execution_count": 30,
     "metadata": {},
     "output_type": "execute_result"
    }
   ],
   "source": [
    "np.setdiff1d(a,b)"
   ]
  },
  {
   "cell_type": "code",
   "execution_count": 31,
   "id": "52e521a1-d5bc-4d50-9d70-b377b421e388",
   "metadata": {},
   "outputs": [
    {
     "data": {
      "text/plain": [
       "array([6, 7, 8, 9])"
      ]
     },
     "execution_count": 31,
     "metadata": {},
     "output_type": "execute_result"
    }
   ],
   "source": [
    "np.setdiff1d(b,a)"
   ]
  },
  {
   "cell_type": "code",
   "execution_count": 32,
   "id": "0134983c-43b2-4541-a8d9-93f7b0d6c1bd",
   "metadata": {},
   "outputs": [],
   "source": [
    "a = np.array([1,2,3,2,3,4,3,4,5,6]) #Get the positions where elements of a and b match\n",
    "b = np.array([7,2,10,2,7,4,9,4,9,8]) "
   ]
  },
  {
   "cell_type": "code",
   "execution_count": 33,
   "id": "870abf4c-42ce-4fc8-a25e-7e49303c260e",
   "metadata": {},
   "outputs": [
    {
     "data": {
      "text/plain": [
       "(array([1, 3, 5, 7]),)"
      ]
     },
     "execution_count": 33,
     "metadata": {},
     "output_type": "execute_result"
    }
   ],
   "source": [
    "np.where(a == b) # provide position"
   ]
  },
  {
   "cell_type": "code",
   "execution_count": 34,
   "id": "162b57e2-0506-4580-87ad-8b8d9c2a5464",
   "metadata": {},
   "outputs": [
    {
     "data": {
      "text/plain": [
       "(array([0, 2, 4, 6, 8, 9]),)"
      ]
     },
     "execution_count": 34,
     "metadata": {},
     "output_type": "execute_result"
    }
   ],
   "source": [
    "np.where(a != b)"
   ]
  },
  {
   "cell_type": "code",
   "execution_count": 35,
   "id": "f8089f25-a6d9-4448-9c22-3320100e41f2",
   "metadata": {},
   "outputs": [],
   "source": [
    "a = np.array([2, 6, 1, 9, 10, 3, 27]) #Get all items between 5 and 10 from a."
   ]
  },
  {
   "cell_type": "code",
   "execution_count": 36,
   "id": "f5883b87-a146-4dbe-a28d-5b2254f01078",
   "metadata": {},
   "outputs": [
    {
     "data": {
      "text/plain": [
       "array([ 6,  9, 10])"
      ]
     },
     "execution_count": 36,
     "metadata": {},
     "output_type": "execute_result"
    }
   ],
   "source": [
    "a[(a >= 5) & (a <= 10)]"
   ]
  },
  {
   "cell_type": "code",
   "execution_count": 54,
   "id": "ed72e6ce-c7ba-4b62-90b3-ce24bd278af1",
   "metadata": {},
   "outputs": [],
   "source": [
    "rand_arr = np.random.random((5,3)) #Print or show only 3 decimal places of the numpy array"
   ]
  },
  {
   "cell_type": "code",
   "execution_count": 51,
   "id": "4ae88c16-32da-426e-b1af-af3a02914237",
   "metadata": {},
   "outputs": [],
   "source": [
    "np.set_printoptions(precision=3)"
   ]
  },
  {
   "cell_type": "code",
   "execution_count": 57,
   "id": "7f4613dd-e1d5-4a9d-ae76-fb62e285eafa",
   "metadata": {},
   "outputs": [
    {
     "data": {
      "text/plain": [
       "array([[0.1254, 0.1106, 0.4942],\n",
       "       [0.0324, 0.468 , 0.1647],\n",
       "       [0.8682, 0.8667, 0.0259],\n",
       "       [0.3203, 0.7847, 0.9385],\n",
       "       [0.2937, 0.37  , 0.0858]])"
      ]
     },
     "execution_count": 57,
     "metadata": {},
     "output_type": "execute_result"
    }
   ],
   "source": [
    "rand_arr"
   ]
  },
  {
   "cell_type": "code",
   "execution_count": 58,
   "id": "5873dda7-465a-418a-beae-fcc25abe6415",
   "metadata": {},
   "outputs": [],
   "source": [
    "np.set_printoptions(precision=4)"
   ]
  },
  {
   "cell_type": "code",
   "execution_count": 63,
   "id": "ee3220aa-aeb8-44c5-b5ca-75943e357939",
   "metadata": {},
   "outputs": [
    {
     "data": {
      "text/plain": [
       "array([[1.2539, 1.1057, 4.9422],\n",
       "       [0.3237, 4.6798, 1.6474],\n",
       "       [8.6815, 8.6667, 0.2586],\n",
       "       [3.2026, 7.8472, 9.385 ],\n",
       "       [2.9374, 3.7001, 0.8578]])"
      ]
     },
     "execution_count": 63,
     "metadata": {},
     "output_type": "execute_result"
    }
   ],
   "source": [
    "rand_arr*10 # print number b/w 0 and 10"
   ]
  },
  {
   "cell_type": "code",
   "execution_count": null,
   "id": "a87375a6-985d-4103-b368-62197b442e0e",
   "metadata": {},
   "outputs": [],
   "source": []
  }
 ],
 "metadata": {
  "kernelspec": {
   "display_name": "Python 3 (ipykernel)",
   "language": "python",
   "name": "python3"
  },
  "language_info": {
   "codemirror_mode": {
    "name": "ipython",
    "version": 3
   },
   "file_extension": ".py",
   "mimetype": "text/x-python",
   "name": "python",
   "nbconvert_exporter": "python",
   "pygments_lexer": "ipython3",
   "version": "3.13.0"
  }
 },
 "nbformat": 4,
 "nbformat_minor": 5
}
