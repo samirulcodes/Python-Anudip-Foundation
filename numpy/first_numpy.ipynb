{
 "cells": [
  {
   "cell_type": "code",
   "execution_count": 1,
   "id": "5298b455-8864-497c-8a2a-05ae4e76684b",
   "metadata": {},
   "outputs": [],
   "source": [
    "import numpy as np"
   ]
  },
  {
   "cell_type": "code",
   "execution_count": 2,
   "id": "e533ae8c-c4ad-4dd2-8e7e-09f4147fb1ff",
   "metadata": {},
   "outputs": [],
   "source": [
    "myarr=np.array([2,10,24,12])"
   ]
  },
  {
   "cell_type": "code",
   "execution_count": 3,
   "id": "17342348-f192-4f8f-af1f-1ea83c5f11b3",
   "metadata": {},
   "outputs": [
    {
     "data": {
      "text/plain": [
       "array([ 2, 10, 24, 12])"
      ]
     },
     "execution_count": 3,
     "metadata": {},
     "output_type": "execute_result"
    }
   ],
   "source": [
    "myarr"
   ]
  },
  {
   "cell_type": "code",
   "execution_count": 4,
   "id": "76dc3fc4-acb6-4d44-aa8b-9e9894384648",
   "metadata": {},
   "outputs": [
    {
     "name": "stdout",
     "output_type": "stream",
     "text": [
      "<class 'numpy.ndarray'>\n"
     ]
    }
   ],
   "source": [
    "print(type(myarr))"
   ]
  },
  {
   "cell_type": "code",
   "execution_count": 5,
   "id": "b2c2e7d5-8ab0-43be-be03-7a706e9b26a9",
   "metadata": {},
   "outputs": [
    {
     "data": {
      "text/plain": [
       "dtype('int64')"
      ]
     },
     "execution_count": 5,
     "metadata": {},
     "output_type": "execute_result"
    }
   ],
   "source": [
    "myarr.dtype"
   ]
  },
  {
   "cell_type": "code",
   "execution_count": 6,
   "id": "51777e08-c158-4db2-8454-4ad448ae5d89",
   "metadata": {},
   "outputs": [],
   "source": [
    "myarr=np.array([2,10,24,12],np.int64)"
   ]
  },
  {
   "cell_type": "code",
   "execution_count": 7,
   "id": "278275a1-7a95-4f14-8ed8-6774c72b94b7",
   "metadata": {},
   "outputs": [
    {
     "data": {
      "text/plain": [
       "dtype('int64')"
      ]
     },
     "execution_count": 7,
     "metadata": {},
     "output_type": "execute_result"
    }
   ],
   "source": [
    "myarr.dtype"
   ]
  },
  {
   "cell_type": "code",
   "execution_count": 8,
   "id": "32b7cbeb-56b3-4f15-87cb-7882a3d29142",
   "metadata": {},
   "outputs": [],
   "source": [
    "myarr=np.array([2,10,24,12.3])"
   ]
  },
  {
   "cell_type": "code",
   "execution_count": 9,
   "id": "a3c9a4c7-80e1-42bc-8a2a-27cd11558406",
   "metadata": {},
   "outputs": [
    {
     "data": {
      "text/plain": [
       "dtype('float64')"
      ]
     },
     "execution_count": 9,
     "metadata": {},
     "output_type": "execute_result"
    }
   ],
   "source": [
    "myarr.dtype"
   ]
  },
  {
   "cell_type": "code",
   "execution_count": 10,
   "id": "c2c8ae68-a725-426b-924f-2756dc82edf5",
   "metadata": {},
   "outputs": [
    {
     "name": "stdout",
     "output_type": "stream",
     "text": [
      "2.0\n",
      "10.0\n",
      "24.0\n",
      "12.3\n"
     ]
    }
   ],
   "source": [
    "for i in myarr:\n",
    "    print(i)"
   ]
  },
  {
   "cell_type": "code",
   "execution_count": 11,
   "id": "3e922737-4168-4539-b26e-04c14b9b065d",
   "metadata": {},
   "outputs": [
    {
     "name": "stdout",
     "output_type": "stream",
     "text": [
      "[ 2. 10. 24.]\n"
     ]
    }
   ],
   "source": [
    "print(myarr[0:3])"
   ]
  },
  {
   "cell_type": "code",
   "execution_count": 12,
   "id": "9e61165f-1c62-417a-96ed-61c5047207d2",
   "metadata": {},
   "outputs": [],
   "source": [
    "zeros=np.zeros((2,5))"
   ]
  },
  {
   "cell_type": "code",
   "execution_count": 13,
   "id": "32799c6c-c4e0-4d97-9775-5be1dcd8f0a6",
   "metadata": {},
   "outputs": [
    {
     "data": {
      "text/plain": [
       "array([[0., 0., 0., 0., 0.],\n",
       "       [0., 0., 0., 0., 0.]])"
      ]
     },
     "execution_count": 13,
     "metadata": {},
     "output_type": "execute_result"
    }
   ],
   "source": [
    "zeros"
   ]
  },
  {
   "cell_type": "code",
   "execution_count": 14,
   "id": "c4bb1622-ad33-485b-b9bd-b44e7d4b367e",
   "metadata": {},
   "outputs": [],
   "source": [
    "zeros=np.ones((2,5))"
   ]
  },
  {
   "cell_type": "code",
   "execution_count": 15,
   "id": "0e6c33ab-a125-45a7-b3d1-890c78e424ae",
   "metadata": {},
   "outputs": [
    {
     "data": {
      "text/plain": [
       "array([[1., 1., 1., 1., 1.],\n",
       "       [1., 1., 1., 1., 1.]])"
      ]
     },
     "execution_count": 15,
     "metadata": {},
     "output_type": "execute_result"
    }
   ],
   "source": [
    "zeros"
   ]
  },
  {
   "cell_type": "code",
   "execution_count": 16,
   "id": "3ef9673a-cafe-4ed3-bc5b-eb8450031b57",
   "metadata": {},
   "outputs": [],
   "source": [
    "ide=np.eye(4)"
   ]
  },
  {
   "cell_type": "code",
   "execution_count": 17,
   "id": "bb05229d-2b8b-4bcd-8784-c2ff50503cab",
   "metadata": {},
   "outputs": [
    {
     "data": {
      "text/plain": [
       "array([[1., 0., 0., 0.],\n",
       "       [0., 1., 0., 0.],\n",
       "       [0., 0., 1., 0.],\n",
       "       [0., 0., 0., 1.]])"
      ]
     },
     "execution_count": 17,
     "metadata": {},
     "output_type": "execute_result"
    }
   ],
   "source": [
    "ide"
   ]
  },
  {
   "cell_type": "code",
   "execution_count": 18,
   "id": "10e2d13e-f0d5-40ee-bb25-64b5523143a4",
   "metadata": {},
   "outputs": [],
   "source": [
    "ide=np.identity(4)"
   ]
  },
  {
   "cell_type": "code",
   "execution_count": 19,
   "id": "2a182559-d16f-4bc1-b6f4-16f271a2a421",
   "metadata": {},
   "outputs": [
    {
     "data": {
      "text/plain": [
       "array([[1., 0., 0., 0.],\n",
       "       [0., 1., 0., 0.],\n",
       "       [0., 0., 1., 0.],\n",
       "       [0., 0., 0., 1.]])"
      ]
     },
     "execution_count": 19,
     "metadata": {},
     "output_type": "execute_result"
    }
   ],
   "source": [
    "ide"
   ]
  },
  {
   "cell_type": "code",
   "execution_count": 20,
   "id": "1aba19f2-56bb-4a44-bd7b-a7fa8b4f104c",
   "metadata": {},
   "outputs": [],
   "source": [
    "rand=np.random.random((2,5))"
   ]
  },
  {
   "cell_type": "code",
   "execution_count": 21,
   "id": "08cce960-357f-4530-9ae0-dd10772c2726",
   "metadata": {},
   "outputs": [
    {
     "data": {
      "text/plain": [
       "array([[0.54793595, 0.54327516, 0.01521103, 0.81667502, 0.44630661],\n",
       "       [0.67241788, 0.64985035, 0.39578539, 0.69731149, 0.60918143]])"
      ]
     },
     "execution_count": 21,
     "metadata": {},
     "output_type": "execute_result"
    }
   ],
   "source": [
    "rand"
   ]
  },
  {
   "cell_type": "code",
   "execution_count": 22,
   "id": "b630a3c7-3731-47b2-ab49-b92e6db949d4",
   "metadata": {},
   "outputs": [],
   "source": [
    "myarr=np.array([2,10,24,12])"
   ]
  },
  {
   "cell_type": "code",
   "execution_count": 23,
   "id": "379c4923-624c-45c5-b8c8-d4da685af857",
   "metadata": {},
   "outputs": [
    {
     "name": "stdout",
     "output_type": "stream",
     "text": [
      "48\n"
     ]
    }
   ],
   "source": [
    "print(sum(myarr))"
   ]
  },
  {
   "cell_type": "code",
   "execution_count": 24,
   "id": "bd41f4e0-8420-4578-b9d9-59dd50e9028e",
   "metadata": {},
   "outputs": [
    {
     "name": "stdout",
     "output_type": "stream",
     "text": [
      "2\n"
     ]
    }
   ],
   "source": [
    "print(min(myarr))"
   ]
  },
  {
   "cell_type": "code",
   "execution_count": 25,
   "id": "680b1cd0-3eb0-49ab-b738-69849a34226b",
   "metadata": {},
   "outputs": [
    {
     "name": "stdout",
     "output_type": "stream",
     "text": [
      "24\n"
     ]
    }
   ],
   "source": [
    "print(max(myarr))"
   ]
  },
  {
   "cell_type": "code",
   "execution_count": 26,
   "id": "b2ac826a-33a2-47ce-883a-b5aa8c024368",
   "metadata": {},
   "outputs": [
    {
     "name": "stdout",
     "output_type": "stream",
     "text": [
      "12.0\n"
     ]
    }
   ],
   "source": [
    "print(myarr.mean())"
   ]
  },
  {
   "cell_type": "code",
   "execution_count": 27,
   "id": "ebb109d9-6195-4bd5-b715-67e955c36bf8",
   "metadata": {},
   "outputs": [
    {
     "name": "stdout",
     "output_type": "stream",
     "text": [
      "[1 2 3 4 5]\n",
      "<class 'numpy.ndarray'>\n"
     ]
    }
   ],
   "source": [
    "my_list=[1,2,3,4,5]\n",
    "arr=np.array(my_list)\n",
    "print(arr)\n",
    "print(type(arr))"
   ]
  },
  {
   "cell_type": "code",
   "execution_count": 28,
   "id": "223cb4e7-1058-4110-8a4d-180b6959d4e8",
   "metadata": {},
   "outputs": [
    {
     "name": "stdout",
     "output_type": "stream",
     "text": [
      "first element 1\n",
      "last element 5\n"
     ]
    }
   ],
   "source": [
    "print(\"first element\",arr[0])\n",
    "print(\"last element\",arr[-1])\n"
   ]
  },
  {
   "cell_type": "code",
   "execution_count": 29,
   "id": "f401f24c-3fca-4389-b192-5ad7c080e1bb",
   "metadata": {},
   "outputs": [
    {
     "name": "stdout",
     "output_type": "stream",
     "text": [
      "[ 2  4  6  8 10]\n"
     ]
    }
   ],
   "source": [
    "print(arr*2)"
   ]
  },
  {
   "cell_type": "code",
   "execution_count": 30,
   "id": "bf8b6417-17c4-4b2c-abb6-dea3a9e484e0",
   "metadata": {},
   "outputs": [
    {
     "name": "stdout",
     "output_type": "stream",
     "text": [
      "[1, 2, 3, 4, 5, 1, 2, 3, 4, 5]\n"
     ]
    }
   ],
   "source": [
    "print(my_list*2)"
   ]
  },
  {
   "cell_type": "code",
   "execution_count": 31,
   "id": "44307cc0-a126-4425-8d41-26b1dbbedde1",
   "metadata": {},
   "outputs": [
    {
     "data": {
      "text/plain": [
       "array([1, 2, 3, 4, 5])"
      ]
     },
     "execution_count": 31,
     "metadata": {},
     "output_type": "execute_result"
    }
   ],
   "source": [
    "arr"
   ]
  },
  {
   "cell_type": "code",
   "execution_count": 32,
   "id": "a26f6f40-22d5-423c-a8a3-2f749a137185",
   "metadata": {},
   "outputs": [
    {
     "name": "stdout",
     "output_type": "stream",
     "text": [
      "[51 52 53 54 55]\n"
     ]
    }
   ],
   "source": [
    "print(arr+50)"
   ]
  },
  {
   "cell_type": "code",
   "execution_count": 33,
   "id": "651bd7df-63ea-4312-b4a2-3f0de88cbc35",
   "metadata": {},
   "outputs": [],
   "source": [
    "arr=np.arange(12,39)"
   ]
  },
  {
   "cell_type": "code",
   "execution_count": 34,
   "id": "6b9b34c8-c7be-4259-b3a9-303404ac0630",
   "metadata": {},
   "outputs": [
    {
     "data": {
      "text/plain": [
       "array([12, 13, 14, 15, 16, 17, 18, 19, 20, 21, 22, 23, 24, 25, 26, 27, 28,\n",
       "       29, 30, 31, 32, 33, 34, 35, 36, 37, 38])"
      ]
     },
     "execution_count": 34,
     "metadata": {},
     "output_type": "execute_result"
    }
   ],
   "source": [
    "arr"
   ]
  },
  {
   "cell_type": "code",
   "execution_count": 35,
   "id": "030bfa9d-43df-4ddf-ab92-6ded6021b327",
   "metadata": {},
   "outputs": [
    {
     "data": {
      "text/plain": [
       "array([[12, 13, 14, 15, 16, 17, 18, 19, 20],\n",
       "       [21, 22, 23, 24, 25, 26, 27, 28, 29],\n",
       "       [30, 31, 32, 33, 34, 35, 36, 37, 38]])"
      ]
     },
     "execution_count": 35,
     "metadata": {},
     "output_type": "execute_result"
    }
   ],
   "source": [
    "arr.reshape(3,9)"
   ]
  },
  {
   "cell_type": "code",
   "execution_count": 36,
   "id": "fb3c649c-0941-4f22-9d9a-dd513c1e0ca0",
   "metadata": {},
   "outputs": [
    {
     "name": "stdout",
     "output_type": "stream",
     "text": [
      "[5. 5. 5. 5. 5. 5. 5. 5. 5. 5.]\n"
     ]
    }
   ],
   "source": [
    "arr5=np.ones(10)\n",
    "print(arr5*5)"
   ]
  },
  {
   "cell_type": "code",
   "execution_count": 37,
   "id": "996fa26c-9dd8-4e1d-b463-8159661d4491",
   "metadata": {},
   "outputs": [
    {
     "name": "stdout",
     "output_type": "stream",
     "text": [
      "[[1 2 3]\n",
      " [4 5 6]]\n",
      "<class 'tuple'>\n",
      "<class 'numpy.ndarray'>\n"
     ]
    }
   ],
   "source": [
    "arr6=[1,2,3],[4,5,6]\n",
    "arr7=np.array(arr6)\n",
    "print(arr7)\n",
    "print(type(arr6))\n",
    "print(type(arr7))"
   ]
  },
  {
   "cell_type": "code",
   "execution_count": 38,
   "id": "78d38690-db3c-476e-a486-425385a55c41",
   "metadata": {},
   "outputs": [
    {
     "name": "stdout",
     "output_type": "stream",
     "text": [
      "(array([0, 1, 4, 5]),)\n"
     ]
    }
   ],
   "source": [
    "temperatures = np.array([23, 25, 20, 22, 26, 24, 21])\n",
    "print(np.where(temperatures>22)) # provide index value"
   ]
  },
  {
   "cell_type": "code",
   "execution_count": 39,
   "id": "cb583b74-e7d4-461b-b8b2-2ac017e6293d",
   "metadata": {},
   "outputs": [
    {
     "name": "stdout",
     "output_type": "stream",
     "text": [
      "(array([2, 6]),)\n"
     ]
    }
   ],
   "source": [
    "temperatures = np.array([23, 25, 20, 22, 26, 24, 21])\n",
    "print(np.where(temperatures<22)) # provide index value"
   ]
  },
  {
   "cell_type": "code",
   "execution_count": 40,
   "id": "3fbf7689-d3a3-4cfe-ac38-f1c1e19d3a04",
   "metadata": {},
   "outputs": [],
   "source": [
    "transpose=np.array([[0, 1, 2],\n",
    "       [0, 1, 2],\n",
    "       [2, 1, 0]])"
   ]
  },
  {
   "cell_type": "code",
   "execution_count": 41,
   "id": "0b363728-8c0b-4278-b752-152394bcfc1e",
   "metadata": {},
   "outputs": [
    {
     "data": {
      "text/plain": [
       "array([[0, 1, 2],\n",
       "       [0, 1, 2],\n",
       "       [2, 1, 0]])"
      ]
     },
     "execution_count": 41,
     "metadata": {},
     "output_type": "execute_result"
    }
   ],
   "source": [
    "transpose"
   ]
  },
  {
   "cell_type": "code",
   "execution_count": 42,
   "id": "ae79619c-3917-46f5-bcbe-7186f47d2bce",
   "metadata": {},
   "outputs": [
    {
     "data": {
      "text/plain": [
       "array([[0, 0, 2],\n",
       "       [1, 1, 1],\n",
       "       [2, 2, 0]])"
      ]
     },
     "execution_count": 42,
     "metadata": {},
     "output_type": "execute_result"
    }
   ],
   "source": [
    "transpose.T  #T-- Transpose , convert row to columns and vice versa"
   ]
  },
  {
   "cell_type": "code",
   "execution_count": 45,
   "id": "da632727-9a6c-4039-96a4-b8cb736fd52f",
   "metadata": {},
   "outputs": [
    {
     "name": "stdout",
     "output_type": "stream",
     "text": [
      "[array([23, 25]), array([20, 22]), array([26, 24]), array([21, 30])]\n"
     ]
    }
   ],
   "source": [
    "sales = np.array([23, 25, 20, 22, 26, 24, 21,30])\n",
    "print(np.split(sales,4))"
   ]
  },
  {
   "cell_type": "code",
   "execution_count": 49,
   "id": "f168d554-d493-4894-a42d-4d2901994a24",
   "metadata": {},
   "outputs": [
    {
     "name": "stdout",
     "output_type": "stream",
     "text": [
      "[20 21 22 23 24 25 26 30]\n"
     ]
    }
   ],
   "source": [
    "print(np.sort(sales))"
   ]
  },
  {
   "cell_type": "code",
   "execution_count": 50,
   "id": "6af16cc1-04cf-41c2-af9a-31a403347e9c",
   "metadata": {},
   "outputs": [
    {
     "name": "stdout",
     "output_type": "stream",
     "text": [
      "[2 6 3 0 5 1 4 7]\n"
     ]
    }
   ],
   "source": [
    "print(np.argsort(sales))  # sort based on index value"
   ]
  },
  {
   "cell_type": "code",
   "execution_count": null,
   "id": "f2a9409d-1a98-4f63-a8dd-22991cbd3bf9",
   "metadata": {},
   "outputs": [],
   "source": []
  }
 ],
 "metadata": {
  "kernelspec": {
   "display_name": "Python 3 (ipykernel)",
   "language": "python",
   "name": "python3"
  },
  "language_info": {
   "codemirror_mode": {
    "name": "ipython",
    "version": 3
   },
   "file_extension": ".py",
   "mimetype": "text/x-python",
   "name": "python",
   "nbconvert_exporter": "python",
   "pygments_lexer": "ipython3",
   "version": "3.13.0"
  }
 },
 "nbformat": 4,
 "nbformat_minor": 5
}
